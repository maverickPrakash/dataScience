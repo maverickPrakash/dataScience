{
 "cells": [
  {
   "cell_type": "code",
   "execution_count": 142,
   "metadata": {},
   "outputs": [],
   "source": [
    "import pandas as pd\n",
    "import matplotlib.pyplot as plt\n",
    "import numpy as np\n",
    "pd.options.display.float_format = '{:,.2f}'.format"
   ]
  },
  {
   "cell_type": "code",
   "execution_count": 143,
   "metadata": {},
   "outputs": [
    {
     "data": {
      "text/html": [
       "<div>\n",
       "<style scoped>\n",
       "    .dataframe tbody tr th:only-of-type {\n",
       "        vertical-align: middle;\n",
       "    }\n",
       "\n",
       "    .dataframe tbody tr th {\n",
       "        vertical-align: top;\n",
       "    }\n",
       "\n",
       "    .dataframe thead th {\n",
       "        text-align: right;\n",
       "    }\n",
       "</style>\n",
       "<table border=\"1\" class=\"dataframe\">\n",
       "  <thead>\n",
       "    <tr style=\"text-align: right;\">\n",
       "      <th></th>\n",
       "      <th>Store</th>\n",
       "      <th>Date</th>\n",
       "      <th>Weekly_Sales</th>\n",
       "      <th>Holiday_Flag</th>\n",
       "      <th>Temperature</th>\n",
       "      <th>Fuel_Price</th>\n",
       "      <th>CPI</th>\n",
       "      <th>Unemployment</th>\n",
       "    </tr>\n",
       "  </thead>\n",
       "  <tbody>\n",
       "    <tr>\n",
       "      <th>0</th>\n",
       "      <td>1</td>\n",
       "      <td>05-02-2010</td>\n",
       "      <td>1,643,690.90</td>\n",
       "      <td>0</td>\n",
       "      <td>42.31</td>\n",
       "      <td>2.57</td>\n",
       "      <td>211.10</td>\n",
       "      <td>8.11</td>\n",
       "    </tr>\n",
       "    <tr>\n",
       "      <th>1</th>\n",
       "      <td>1</td>\n",
       "      <td>12-02-2010</td>\n",
       "      <td>1,641,957.44</td>\n",
       "      <td>1</td>\n",
       "      <td>38.51</td>\n",
       "      <td>2.55</td>\n",
       "      <td>211.24</td>\n",
       "      <td>8.11</td>\n",
       "    </tr>\n",
       "    <tr>\n",
       "      <th>2</th>\n",
       "      <td>1</td>\n",
       "      <td>19-02-2010</td>\n",
       "      <td>1,611,968.17</td>\n",
       "      <td>0</td>\n",
       "      <td>39.93</td>\n",
       "      <td>2.51</td>\n",
       "      <td>211.29</td>\n",
       "      <td>8.11</td>\n",
       "    </tr>\n",
       "    <tr>\n",
       "      <th>3</th>\n",
       "      <td>1</td>\n",
       "      <td>26-02-2010</td>\n",
       "      <td>1,409,727.59</td>\n",
       "      <td>0</td>\n",
       "      <td>46.63</td>\n",
       "      <td>2.56</td>\n",
       "      <td>211.32</td>\n",
       "      <td>8.11</td>\n",
       "    </tr>\n",
       "    <tr>\n",
       "      <th>4</th>\n",
       "      <td>1</td>\n",
       "      <td>05-03-2010</td>\n",
       "      <td>1,554,806.68</td>\n",
       "      <td>0</td>\n",
       "      <td>46.50</td>\n",
       "      <td>2.62</td>\n",
       "      <td>211.35</td>\n",
       "      <td>8.11</td>\n",
       "    </tr>\n",
       "  </tbody>\n",
       "</table>\n",
       "</div>"
      ],
      "text/plain": [
       "   Store        Date  Weekly_Sales  Holiday_Flag  Temperature  Fuel_Price  \\\n",
       "0      1  05-02-2010  1,643,690.90             0        42.31        2.57   \n",
       "1      1  12-02-2010  1,641,957.44             1        38.51        2.55   \n",
       "2      1  19-02-2010  1,611,968.17             0        39.93        2.51   \n",
       "3      1  26-02-2010  1,409,727.59             0        46.63        2.56   \n",
       "4      1  05-03-2010  1,554,806.68             0        46.50        2.62   \n",
       "\n",
       "     CPI  Unemployment  \n",
       "0 211.10          8.11  \n",
       "1 211.24          8.11  \n",
       "2 211.29          8.11  \n",
       "3 211.32          8.11  \n",
       "4 211.35          8.11  "
      ]
     },
     "execution_count": 143,
     "metadata": {},
     "output_type": "execute_result"
    }
   ],
   "source": [
    "df = pd.read_csv(\"Walmart.csv\")\n",
    "df.head()"
   ]
  },
  {
   "cell_type": "code",
   "execution_count": 144,
   "metadata": {},
   "outputs": [
    {
     "name": "stdout",
     "output_type": "stream",
     "text": [
      "         Store  Weekly_Sales  Holiday_Flag  Temperature  Fuel_Price      CPI  \\\n",
      "count 6,435.00      6,435.00      6,435.00     6,435.00    6,435.00 6,435.00   \n",
      "mean     23.00  1,046,964.88          0.07        60.66        3.36   171.58   \n",
      "std      12.99    564,366.62          0.26        18.44        0.46    39.36   \n",
      "min       1.00    209,986.25          0.00        -2.06        2.47   126.06   \n",
      "25%      12.00    553,350.10          0.00        47.46        2.93   131.74   \n",
      "50%      23.00    960,746.04          0.00        62.67        3.44   182.62   \n",
      "75%      34.00  1,420,158.66          0.00        74.94        3.73   212.74   \n",
      "max      45.00  3,818,686.45          1.00       100.14        4.47   227.23   \n",
      "\n",
      "       Unemployment  \n",
      "count      6,435.00  \n",
      "mean           8.00  \n",
      "std            1.88  \n",
      "min            3.88  \n",
      "25%            6.89  \n",
      "50%            7.87  \n",
      "75%            8.62  \n",
      "max           14.31  \n",
      "<class 'pandas.core.frame.DataFrame'>\n",
      "RangeIndex: 6435 entries, 0 to 6434\n",
      "Data columns (total 8 columns):\n",
      " #   Column        Non-Null Count  Dtype  \n",
      "---  ------        --------------  -----  \n",
      " 0   Store         6435 non-null   int64  \n",
      " 1   Date          6435 non-null   object \n",
      " 2   Weekly_Sales  6435 non-null   float64\n",
      " 3   Holiday_Flag  6435 non-null   int64  \n",
      " 4   Temperature   6435 non-null   float64\n",
      " 5   Fuel_Price    6435 non-null   float64\n",
      " 6   CPI           6435 non-null   float64\n",
      " 7   Unemployment  6435 non-null   float64\n",
      "dtypes: float64(5), int64(2), object(1)\n",
      "memory usage: 402.3+ KB\n",
      "None\n"
     ]
    }
   ],
   "source": [
    "print(df.describe())\n",
    "print(df.info())"
   ]
  },
  {
   "cell_type": "code",
   "execution_count": 145,
   "metadata": {},
   "outputs": [
    {
     "data": {
      "text/html": [
       "<div>\n",
       "<style scoped>\n",
       "    .dataframe tbody tr th:only-of-type {\n",
       "        vertical-align: middle;\n",
       "    }\n",
       "\n",
       "    .dataframe tbody tr th {\n",
       "        vertical-align: top;\n",
       "    }\n",
       "\n",
       "    .dataframe thead th {\n",
       "        text-align: right;\n",
       "    }\n",
       "</style>\n",
       "<table border=\"1\" class=\"dataframe\">\n",
       "  <thead>\n",
       "    <tr style=\"text-align: right;\">\n",
       "      <th></th>\n",
       "      <th>Store</th>\n",
       "      <th>Weekly_Sales</th>\n",
       "      <th>Holiday_Flag</th>\n",
       "      <th>Temperature</th>\n",
       "      <th>Fuel_Price</th>\n",
       "      <th>CPI</th>\n",
       "      <th>Unemployment</th>\n",
       "    </tr>\n",
       "  </thead>\n",
       "  <tbody>\n",
       "    <tr>\n",
       "      <th>0</th>\n",
       "      <td>1</td>\n",
       "      <td>222,402,808.85</td>\n",
       "      <td>10</td>\n",
       "      <td>9,767.87</td>\n",
       "      <td>460.42</td>\n",
       "      <td>30,887.56</td>\n",
       "      <td>1,088.29</td>\n",
       "    </tr>\n",
       "    <tr>\n",
       "      <th>1</th>\n",
       "      <td>2</td>\n",
       "      <td>275,382,440.98</td>\n",
       "      <td>10</td>\n",
       "      <td>9,754.94</td>\n",
       "      <td>460.42</td>\n",
       "      <td>30,837.42</td>\n",
       "      <td>1,090.21</td>\n",
       "    </tr>\n",
       "    <tr>\n",
       "      <th>2</th>\n",
       "      <td>3</td>\n",
       "      <td>57,586,735.07</td>\n",
       "      <td>10</td>\n",
       "      <td>10,215.09</td>\n",
       "      <td>460.42</td>\n",
       "      <td>31,372.99</td>\n",
       "      <td>1,026.31</td>\n",
       "    </tr>\n",
       "    <tr>\n",
       "      <th>3</th>\n",
       "      <td>4</td>\n",
       "      <td>299,543,953.38</td>\n",
       "      <td>10</td>\n",
       "      <td>8,902.23</td>\n",
       "      <td>460.03</td>\n",
       "      <td>18,401.19</td>\n",
       "      <td>852.95</td>\n",
       "    </tr>\n",
       "    <tr>\n",
       "      <th>4</th>\n",
       "      <td>5</td>\n",
       "      <td>45,475,688.90</td>\n",
       "      <td>10</td>\n",
       "      <td>9,925.65</td>\n",
       "      <td>460.42</td>\n",
       "      <td>30,968.88</td>\n",
       "      <td>900.24</td>\n",
       "    </tr>\n",
       "  </tbody>\n",
       "</table>\n",
       "</div>"
      ],
      "text/plain": [
       "   Store   Weekly_Sales  Holiday_Flag  Temperature  Fuel_Price       CPI  \\\n",
       "0      1 222,402,808.85            10     9,767.87      460.42 30,887.56   \n",
       "1      2 275,382,440.98            10     9,754.94      460.42 30,837.42   \n",
       "2      3  57,586,735.07            10    10,215.09      460.42 31,372.99   \n",
       "3      4 299,543,953.38            10     8,902.23      460.03 18,401.19   \n",
       "4      5  45,475,688.90            10     9,925.65      460.42 30,968.88   \n",
       "\n",
       "   Unemployment  \n",
       "0      1,088.29  \n",
       "1      1,090.21  \n",
       "2      1,026.31  \n",
       "3        852.95  \n",
       "4        900.24  "
      ]
     },
     "execution_count": 145,
     "metadata": {},
     "output_type": "execute_result"
    }
   ],
   "source": [
    "SalesGroupDataByStore = df.groupby(\"Store\",as_index=False).sum()\n",
    "SalesGroupDataByStore.head()"
   ]
  },
  {
   "cell_type": "code",
   "execution_count": 146,
   "metadata": {},
   "outputs": [
    {
     "name": "stdout",
     "output_type": "stream",
     "text": [
      "Store                  33.00\n",
      "Weekly_Sales   37,160,221.96\n",
      "Holiday_Flag           10.00\n",
      "Temperature        10,972.13\n",
      "Fuel_Price            511.36\n",
      "CPI                18,401.19\n",
      "Unemployment        1,220.24\n",
      "Name: 32, dtype: float64\n"
     ]
    }
   ],
   "source": [
    "min_store = SalesGroupDataByStore[\"Weekly_Sales\"].idxmin()\n",
    "min_store_data = SalesGroupDataByStore.loc[min_store]\n",
    "print(min_store_data)"
   ]
  },
  {
   "cell_type": "code",
   "execution_count": 147,
   "metadata": {},
   "outputs": [
    {
     "name": "stdout",
     "output_type": "stream",
     "text": [
      "Store                   20.00\n",
      "Weekly_Sales   301,397,792.46\n",
      "Holiday_Flag            10.00\n",
      "Temperature          7,929.55\n",
      "Fuel_Price             488.72\n",
      "CPI                 29,892.45\n",
      "Unemployment         1,054.11\n",
      "Name: 19, dtype: float64\n"
     ]
    }
   ],
   "source": [
    "max_store = SalesGroupDataByStore[\"Weekly_Sales\"].idxmax()\n",
    "max_store_data = SalesGroupDataByStore.loc[max_store]\n",
    "print(max_store_data)\n"
   ]
  },
  {
   "cell_type": "code",
   "execution_count": 177,
   "metadata": {},
   "outputs": [
    {
     "data": {
      "image/png": "[encoded data removed]",
      "text/plain": [
       "<Figure size 1500x600 with 1 Axes>"
      ]
     },
     "metadata": {},
     "output_type": "display_data"
    }
   ],
   "source": [
    "plt.figure(figsize=(15, 6))\n",
    "plt.bar(SalesGroupDataByStore[\"Store\"], SalesGroupDataByStore[\"Weekly_Sales\"])\n",
    "plt.xlabel('Store')\n",
    "plt.ylabel('Sales')\n",
    "plt.title('Total Sales for Each Store')\n",
    "plt.xticks(range(1, 46))  \n",
    "plt.tight_layout()  \n",
    "plt.show()\n"
   ]
  },
  {
   "cell_type": "code",
   "execution_count": 209,
   "metadata": {},
   "outputs": [
    {
     "data": {
      "text/plain": [
       "<BarContainer object of 45 artists>"
      ]
     },
     "execution_count": 209,
     "metadata": {},
     "output_type": "execute_result"
    },
    {
     "data": {
      "image/png": "[encoded data removed]",
      "text/plain": [
       "<Figure size 1500x600 with 1 Axes>"
      ]
     },
     "metadata": {},
     "output_type": "display_data"
    }
   ],
   "source": [
    "plt.figure(figsize=(15, 6))\n",
    "avgTemp = SalesGroupDataByStore['Temperature']/ df.groupby(\"Store\" , as_index=False).count()['Temperature']\n",
    "plt.xticks(range(1,SalesGroupDataByStore['Temperature'].count()+1))\n",
    "plt.xlabel('Stores')\n",
    "plt.ylabel('Average Temperature')\n",
    "plt.bar(SalesGroupDataByStore['Store'], avgTemp)"
   ]
  },
  {
   "cell_type": "code",
   "execution_count": 210,
   "metadata": {},
   "outputs": [
    {
     "data": {
      "text/plain": [
       "<BarContainer object of 45 artists>"
      ]
     },
     "execution_count": 210,
     "metadata": {},
     "output_type": "execute_result"
    },
    {
     "data": {
      "image/png": "[encoded data removed]",
      "text/plain": [
       "<Figure size 1500x600 with 1 Axes>"
      ]
     },
     "metadata": {},
     "output_type": "display_data"
    }
   ],
   "source": [
    "plt.figure(figsize=(15, 6))\n",
    "plt.xticks(range(1,SalesGroupDataByStore['Temperature'].count()+1))\n",
    "plt.xlabel('Stores')\n",
    "plt.ylabel('Umemployment')\n",
    "plt.bar(SalesGroupDataByStore['Store'], SalesGroupDataByStore['Unemployment'])"
   ]
  }
 ],
 "metadata": {
  "kernelspec": {
   "display_name": "base",
   "language": "python",
   "name": "python3"
  },
  "language_info": {
   "codemirror_mode": {
    "name": "ipython",
    "version": 3
   },
   "file_extension": ".py",
   "mimetype": "text/x-python",
   "name": "python",
   "nbconvert_exporter": "python",
   "pygments_lexer": "ipython3",
   "version": "3.9.13"
  },
  "orig_nbformat": 4,
  "vscode": {
   "interpreter": {
    "hash": "40d3a090f54c6569ab1632332b64b2c03c39dcf918b08424e98f38b5ae0af88f"
   }
  }
 },
 "nbformat": 4,
 "nbformat_minor": 2
}
